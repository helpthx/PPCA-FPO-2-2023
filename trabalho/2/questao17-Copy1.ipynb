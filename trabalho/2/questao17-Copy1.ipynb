{
 "cells": [
  {
   "cell_type": "code",
   "execution_count": 9,
   "id": "2aeb9e80-2e03-4d74-91ec-d0ae36b01c27",
   "metadata": {},
   "outputs": [],
   "source": [
    "import matplotlib.pyplot as plt\n",
    "import numpy as np"
   ]
  },
  {
   "cell_type": "markdown",
   "id": "04bae899-8774-4ac0-8166-46e3381865eb",
   "metadata": {},
   "source": [
    "# Questão 17\n",
    "\n"
   ]
  },
  {
   "cell_type": "markdown",
   "id": "1d88ac6a-c9b4-4e94-bf8c-42fc7768668a",
   "metadata": {},
   "source": [
    "## 1) Entrar os coeficientes"
   ]
  },
  {
   "cell_type": "code",
   "execution_count": 40,
   "id": "7b494561-2acf-44bb-9296-d6b667148eab",
   "metadata": {},
   "outputs": [],
   "source": [
    "A = [[8,6],[1,2], [-1,-2]]\n",
    "B = [48, 12, -20]\n",
    "C = [0.06, 0.08]\n",
    "prob = 'min'\n",
    "ineq = []\n",
    "non_negative = True"
   ]
  },
  {
   "cell_type": "markdown",
   "id": "0538d80d-8721-4a4d-94cf-88b8f3cbad48",
   "metadata": {},
   "source": [
    "## 2) printar a função objetiva e as restrições"
   ]
  },
  {
   "cell_type": "code",
   "execution_count": 47,
   "id": "46fcbd84-8c02-46c5-94a4-75079aeb9902",
   "metadata": {},
   "outputs": [],
   "source": [
    "def f_a(A, B, C, prob, ineq, non_negative=True) -> None:\n",
    "    ineq = []\n",
    "\n",
    "    if not ineq:\n",
    "        if prob == 'max':\n",
    "            ineq = ['<='] * len(B)\n",
    "        elif prob == 'min':\n",
    "            ineq = ['>='] * len(B)\n",
    "\n",
    "    print(f\"Otimização de:  {prob} Z = {C[0]}x + {C[1]}y\")\n",
    "\n",
    "    print(\"\\nSujeito a:\")\n",
    "    for i in range(len(A)):\n",
    "        print(f\"        {A[i][0]}x + {A[i][1]}y {ineq[i]} {B[i]}\")\n",
    "    \n",
    "    if non_negative:\n",
    "        print(\"\\n Tal que: x, y >= 0\")\n",
    "\n",
    "    return None"
   ]
  },
  {
   "cell_type": "code",
   "execution_count": 48,
   "id": "9d95c973-1325-440d-9e1c-88c35fc32118",
   "metadata": {},
   "outputs": [
    {
     "name": "stdout",
     "output_type": "stream",
     "text": [
      "Otimização de:  min Z = 0.06x + 0.08y\n",
      "\n",
      "Sujeito a:\n",
      "        8x + 6y >= 48\n",
      "        1x + 2y >= 12\n",
      "        -1x + -2y >= -20\n",
      "\n",
      " Tal que: x, y >= 0\n"
     ]
    }
   ],
   "source": [
    "f_a(A, B, C, prob, ineq, non_negative)"
   ]
  },
  {
   "cell_type": "markdown",
   "id": "940f4326-b922-479f-9631-bd959657e2d4",
   "metadata": {},
   "source": [
    "## 3) printar a função objetiva e as restrições"
   ]
  },
  {
   "cell_type": "markdown",
   "id": "ea4d55a4-0bf7-46c0-b260-6db9b21011ca",
   "metadata": {},
   "source": [
    "### Melhorar essa etapa do codigo, pois ainda nao usa os coeficientes, essa etapa é hard code"
   ]
  },
  {
   "cell_type": "code",
   "execution_count": 103,
   "id": "e4e7c543-10c4-4a30-97f3-cbf795d7fd84",
   "metadata": {
    "scrolled": true
   },
   "outputs": [
    {
     "data": {
      "text/plain": [
       "Text(0, 0.5, '$y$')"
      ]
     },
     "execution_count": 103,
     "metadata": {},
     "output_type": "execute_result"
    },
    {
     "data": {
      "image/png": "[encoded data removed]",
      "text/plain": [
       "<Figure size 640x480 with 1 Axes>"
      ]
     },
     "metadata": {},
     "output_type": "display_data"
    }
   ],
   "source": [
    "d = np.linspace(-2,16,300)\n",
    "\n",
    "x,y = np.meshgrid(d,d)\n",
    "\n",
    "plt.imshow( ((6*y >= (48 - 8*x)) & # 8x1 + 6x2 >= 48\n",
    "             (2*y >= (12 - x)) & # x1 + 2x2 >= 12\n",
    "             (-2*y >= (-20 + x))  # x1 + 2x2 <= 20\n",
    "             ).astype(int) , \n",
    "                extent=(x.min(),x.max(),y.min(),y.max()),origin=\"lower\", cmap=\"Greys\", alpha = 0.3);\n",
    "\n",
    "# plot the lines defining the constraints\n",
    "#Dado que x = x1 \n",
    "#         y = x2\n",
    "\n",
    "x = np.linspace(0, 16, 2000)\n",
    "\n",
    "# 8x1 + 6x2 >= 48\n",
    "y1 = (48 - 8*x)/6.0\n",
    "#x1 + 2x2 = 12\n",
    "y2 = (12 - x)/2.0\n",
    "#x1 + 2x2 = 20\n",
    "y3 = (20 - x)/2.0\n",
    "\n",
    "# Make plot\n",
    "#plt.plot(x, 2*np.ones_like(y1))\n",
    "plt.plot(x, y1, label=r'$8x + 6y \\geq 48$')\n",
    "plt.plot(x, y2, label=r'$x + 2y \\geq 12$')\n",
    "plt.plot(x, y3, label=r'$x + 2y \\leq 20$')\n",
    "plt.xlim(0,16)\n",
    "plt.ylim(0,11)\n",
    "plt.legend(bbox_to_anchor=(1.05, 1), loc=2, borderaxespad=0.)\n",
    "plt.xlabel(r'$x$')\n",
    "plt.ylabel(r'$y$')"
   ]
  },
  {
   "cell_type": "markdown",
   "id": "dd574327-1304-4a95-bb58-2c513a7c2396",
   "metadata": {},
   "source": [
    "## 4) Calcular as interseções"
   ]
  },
  {
   "cell_type": "code",
   "execution_count": 104,
   "id": "775933ac-4bde-4015-bdb1-8c76486f8517",
   "metadata": {},
   "outputs": [],
   "source": [
    "from intvalpy import lineqs\n",
    "import numpy as np\n",
    "\n",
    "A = np.array(A)\n",
    "b = np.array(B)\n",
    "\n",
    "dots = lineqs(A, b, save=False, show=False)"
   ]
  },
  {
   "cell_type": "code",
   "execution_count": 105,
   "id": "9a16b276-c873-4f81-a4f7-2a610d070c8e",
   "metadata": {},
   "outputs": [
    {
     "name": "stdout",
     "output_type": "stream",
     "text": [
      "[[ 2.4  4.8]\n",
      " [-2.4 11.2]\n",
      " [16.   2. ]\n",
      " [16.  -2. ]]\n"
     ]
    }
   ],
   "source": [
    "print(dots)"
   ]
  },
  {
   "cell_type": "markdown",
   "id": "aa28a089-7520-4265-9c8f-e56402c60326",
   "metadata": {},
   "source": [
    "## 5) Calcular os calores da função objetica"
   ]
  },
  {
   "cell_type": "code",
   "execution_count": 106,
   "id": "60c06317-24ad-4d3e-aee4-3315de92174b",
   "metadata": {},
   "outputs": [
    {
     "name": "stdout",
     "output_type": "stream",
     "text": [
      "Dado: Z = 0.06x + 0.08y \n",
      "\n",
      "Z(2.4,4.8) = 0.528\n",
      "Z(-2.4,11.2) = 0.752\n",
      "Z(16.0,2.0) = 1.12\n",
      "Z(16.0,-2.0) = 0.8\n"
     ]
    }
   ],
   "source": [
    "print(f\"Dado: Z = {C[0]}x + {C[1]}y \\n\")\n",
    "\n",
    "z_solutions = {}\n",
    "x_list = []\n",
    "for dot in dots:\n",
    "    solution = round(C[0]*dot[0] + C[1]*dot[1], 4)\n",
    "    ponto = f\"{dot[0]},{dot[1]}\"\n",
    "    z_solutions.update({solution: ponto})\n",
    "    \n",
    "    print(f\"Z({ponto}) = {solution}\")"
   ]
  },
  {
   "cell_type": "code",
   "execution_count": 107,
   "id": "a1f25dcf-4138-4e0b-8714-6b2f7fd71707",
   "metadata": {},
   "outputs": [
    {
     "data": {
      "text/plain": [
       "{0.528: '2.4,4.8', 0.752: '-2.4,11.2', 1.12: '16.0,2.0', 0.8: '16.0,-2.0'}"
      ]
     },
     "execution_count": 107,
     "metadata": {},
     "output_type": "execute_result"
    }
   ],
   "source": [
    "z_solutions"
   ]
  },
  {
   "cell_type": "markdown",
   "id": "aea417c7-d767-4ec0-8bc5-adcb51fe9b6a",
   "metadata": {},
   "source": [
    " ## 6) Retornar o valor de menor ou maior dependendo da otimizacao"
   ]
  },
  {
   "cell_type": "code",
   "execution_count": 108,
   "id": "8711dfa7-3188-48ad-a109-34c997e6126b",
   "metadata": {},
   "outputs": [
    {
     "data": {
      "text/plain": [
       "'2.4,4.8'"
      ]
     },
     "execution_count": 108,
     "metadata": {},
     "output_type": "execute_result"
    }
   ],
   "source": [
    "max(z_solutions. values()) "
   ]
  },
  {
   "cell_type": "code",
   "execution_count": 109,
   "id": "fd0f594f-8677-4850-97bc-e7b61177af1c",
   "metadata": {},
   "outputs": [
    {
     "data": {
      "text/plain": [
       "'2.4,4.8'"
      ]
     },
     "execution_count": 109,
     "metadata": {},
     "output_type": "execute_result"
    }
   ],
   "source": [
    "z_solutions[min(z_solutions)]"
   ]
  },
  {
   "cell_type": "code",
   "execution_count": 110,
   "id": "8759c95d-da0f-4480-8cf5-df6782e44403",
   "metadata": {},
   "outputs": [
    {
     "name": "stdout",
     "output_type": "stream",
     "text": [
      "O valor minimo da zona factivel é 0.528 encontrado no ponto Z(2.4,4.8)\n"
     ]
    }
   ],
   "source": [
    "if prob == 'max':\n",
    "    print(f\"O valor maximo da zona factivel é {max(z_solutions)} encontrado no ponto Z({z_solutions[max(z_solutions)]})\")\n",
    "elif prob == 'min':\n",
    "    print(f\"O valor minimo da zona factivel é {min(z_solutions)} encontrado no ponto Z({z_solutions[min(z_solutions)]})\")"
   ]
  },
  {
   "cell_type": "code",
   "execution_count": null,
   "id": "bcb0e1f8-2938-438d-8580-fc6cb68c68cc",
   "metadata": {},
   "outputs": [],
   "source": []
  },
  {
   "cell_type": "code",
   "execution_count": null,
   "id": "280a2ed3-5963-4522-b88e-2f103c51555a",
   "metadata": {},
   "outputs": [],
   "source": []
  }
 ],
 "metadata": {
  "kernelspec": {
   "display_name": "Python 3 (ipykernel)",
   "language": "python",
   "name": "python3"
  },
  "language_info": {
   "codemirror_mode": {
    "name": "ipython",
    "version": 3
   },
   "file_extension": ".py",
   "mimetype": "text/x-python",
   "name": "python",
   "nbconvert_exporter": "python",
   "pygments_lexer": "ipython3",
   "version": "3.9.18"
  }
 },
 "nbformat": 4,
 "nbformat_minor": 5
}
