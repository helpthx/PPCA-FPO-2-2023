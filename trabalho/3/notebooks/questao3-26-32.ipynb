{
 "cells": [
  {
   "cell_type": "code",
   "execution_count": 1,
   "id": "edffc6c3-e751-4a23-a4c3-d842204c5fd6",
   "metadata": {},
   "outputs": [],
   "source": [
    "from utils import solve_questao_3"
   ]
  },
  {
   "cell_type": "markdown",
   "id": "04bae899-8774-4ac0-8166-46e3381865eb",
   "metadata": {},
   "source": [
    "# Questão 3 - Questões 26 até 32 da lista"
   ]
  },
  {
   "cell_type": "markdown",
   "id": "1b40c747-f6df-4e15-b15f-05818207da7e",
   "metadata": {},
   "source": [
    "### Documentação:\n",
    "\n",
    "A<List[List[int]]>: Lista de inequações em formato matricial.\n",
    "\n",
    "Ained<List[str]>: Lista de valores de inequação em formato de lista. (i.e) Possiveis valores ['<=', '>=']\n",
    "\n",
    "B<List[int]>: Lista de restriçoes das inequações.\n",
    "\n",
    "C<List[int]>: Lista de coeficientes da função objetiva\n",
    "\n",
    "prob<str>: Tipo de problema de otimização. (i.e) Possiveis valores ['min', 'max']\n",
    "\n",
    "\n",
    "### Exemplos de preencimento:\n",
    "Para o seguinte problema 17 temos que:\n",
    "\n",
    "Minimizar: $X = 0.06x1 + 0.08x2$\n",
    "\n",
    "Sujeito a: \n",
    "    $8x1 + 6x2 >= 48$\n",
    "\n",
    "    $x1 + 2x2 >= 12$\n",
    "\n",
    "    $x1 + 2x2 <= 20$\n",
    "\n",
    "Tal que:\n",
    "    $x1, x2 >= 0$\n",
    "\n",
    "Deve-se preencher da seguinte forma:\n",
    "```console\n",
    "A = [[8,6],[1,2], [1,2]]\n",
    "Aineq = ['<=', '<=', '>=']\n",
    "B = [48, 12, 20]\n",
    "C = [0.06, 0.08]\n",
    "prob = 'min'\n",
    "non_negative = True\n",
    "```"
   ]
  },
  {
   "cell_type": "markdown",
   "id": "0a89ca7c-ee87-45fc-920f-2485aa88423c",
   "metadata": {},
   "source": [
    "### Questão 26"
   ]
  },
  {
   "cell_type": "code",
   "execution_count": 2,
   "id": "280a2ed3-5963-4522-b88e-2f103c51555a",
   "metadata": {},
   "outputs": [],
   "source": [
    "A = [[2,4],[3,2]]\n",
    "Aineq = ['>=', '>=']\n",
    "B = [40, 50]\n",
    "C = [3, 2.5]\n",
    "prob = 'min'\n",
    "non_negative = True"
   ]
  },
  {
   "cell_type": "code",
   "execution_count": 3,
   "id": "0d1b1682-50d6-4a2e-b3b7-9041257247c1",
   "metadata": {},
   "outputs": [
    {
     "name": "stdout",
     "output_type": "stream",
     "text": [
      "a - Mostrando problema de entrada \n",
      "\n",
      "Otimização de:  min Z = 3x0 + 2.5x1 \n",
      "\n",
      "Sujeito a: \n",
      "         2x0 + 4x1 >= 40 \n",
      "         3x0 + 2x1 >= 50 \n",
      "\n",
      "\n",
      "\n",
      "\n",
      "b - Transformando em formato canonico \n",
      "\n",
      "Otimização de:  min Z = 3x0 + 2.5x1 \n",
      "\n",
      "Sujeito a: \n",
      "         2x0 + 4x1 >= 40 \n",
      "         3x0 + 2x1 >= 50 \n",
      "\n",
      "\n",
      "\n",
      "\n",
      "c - Transformando em formato dual \n",
      "\n",
      "Otimização de:  max D = 40y0 + 50y1 \n",
      "\n",
      "Sujeito a: \n",
      "         2y0 + 3y1 <= 3 \n",
      "         4y0 + 2y1 <= 2.5 \n",
      "\n"
     ]
    }
   ],
   "source": [
    "solve_questao_3(A, Aineq, B, C, prob)"
   ]
  },
  {
   "cell_type": "markdown",
   "id": "73a52610-feb2-4641-aafd-95297cc88280",
   "metadata": {},
   "source": [
    "### Questão 27"
   ]
  },
  {
   "cell_type": "code",
   "execution_count": 4,
   "id": "054c0912-085b-4842-bbe9-0978a1e0278f",
   "metadata": {},
   "outputs": [],
   "source": [
    "A = [[2,0],[0,3], [2,2], [(6/5),(3/2)]]\n",
    "Aineq = ['<=', '<=', '<=', '<=']\n",
    "B = [300, 540, 440, 300]\n",
    "C = [50, 40]\n",
    "prob = 'max'\n",
    "non_negative = True"
   ]
  },
  {
   "cell_type": "code",
   "execution_count": 5,
   "id": "29c3c707-9233-4fa0-b5d2-5dd516e5fe8b",
   "metadata": {},
   "outputs": [
    {
     "name": "stdout",
     "output_type": "stream",
     "text": [
      "a - Mostrando problema de entrada \n",
      "\n",
      "Otimização de:  max Z = 50x0 + 40x1 \n",
      "\n",
      "Sujeito a: \n",
      "         2x0 + 0x1 <= 300 \n",
      "         0x0 + 3x1 <= 540 \n",
      "         2x0 + 2x1 <= 440 \n",
      "         1.2x0 + 1.5x1 <= 300 \n",
      "\n",
      "\n",
      "\n",
      "\n",
      "b - Transformando em formato canonico \n",
      "\n",
      "Otimização de:  max Z = 50x0 + 40x1 \n",
      "\n",
      "Sujeito a: \n",
      "         2x0 + 0x1 <= 300 \n",
      "         0x0 + 3x1 <= 540 \n",
      "         2x0 + 2x1 <= 440 \n",
      "         1.2x0 + 1.5x1 <= 300 \n",
      "\n",
      "\n",
      "\n",
      "\n",
      "c - Transformando em formato dual \n",
      "\n",
      "Otimização de:  min D = 300y0 + 540y1 + 440y2 + 300y3 \n",
      "\n",
      "Sujeito a: \n",
      "         2y0 + 0y1 + 2y2 + 1.2y3 >= 50 \n",
      "         0y0 + 3y1 + 2y2 + 1.5y3 >= 40 \n",
      "\n"
     ]
    }
   ],
   "source": [
    "solve_questao_3(A, Aineq, B, C, prob)"
   ]
  },
  {
   "cell_type": "markdown",
   "id": "ad8e871c-78d7-4e58-b42b-ff9d72df21c4",
   "metadata": {},
   "source": [
    "### Questão 28"
   ]
  },
  {
   "cell_type": "code",
   "execution_count": 6,
   "id": "3a94758c-3b87-4700-b6f9-dfabaeabb95c",
   "metadata": {},
   "outputs": [],
   "source": [
    "A = [[10, 6],[5, 10], [1, 2]]\n",
    "Aineq = ['<=', '<=', '<=']\n",
    "B = [2500, 2000, 500]\n",
    "C = [23, 32]\n",
    "prob = 'max'\n",
    "non_negative = True"
   ]
  },
  {
   "cell_type": "code",
   "execution_count": 7,
   "id": "36eb3a76-dd67-496a-9154-eeab9568f9ec",
   "metadata": {},
   "outputs": [
    {
     "name": "stdout",
     "output_type": "stream",
     "text": [
      "a - Mostrando problema de entrada \n",
      "\n",
      "Otimização de:  max Z = 23x0 + 32x1 \n",
      "\n",
      "Sujeito a: \n",
      "         10x0 + 6x1 <= 2500 \n",
      "         5x0 + 10x1 <= 2000 \n",
      "         1x0 + 2x1 <= 500 \n",
      "\n",
      "\n",
      "\n",
      "\n",
      "b - Transformando em formato canonico \n",
      "\n",
      "Otimização de:  max Z = 23x0 + 32x1 \n",
      "\n",
      "Sujeito a: \n",
      "         10x0 + 6x1 <= 2500 \n",
      "         5x0 + 10x1 <= 2000 \n",
      "         1x0 + 2x1 <= 500 \n",
      "\n",
      "\n",
      "\n",
      "\n",
      "c - Transformando em formato dual \n",
      "\n",
      "Otimização de:  min D = 2500y0 + 2000y1 + 500y2 \n",
      "\n",
      "Sujeito a: \n",
      "         10y0 + 5y1 + 1y2 >= 23 \n",
      "         6y0 + 10y1 + 2y2 >= 32 \n",
      "\n"
     ]
    }
   ],
   "source": [
    "solve_questao_3(A, Aineq, B, C, prob)"
   ]
  },
  {
   "cell_type": "markdown",
   "id": "33636c3d-9867-4f60-9cf8-4d5307a58021",
   "metadata": {},
   "source": [
    "### Questão 29"
   ]
  },
  {
   "cell_type": "code",
   "execution_count": 8,
   "id": "89d84bce-8fbc-498a-afad-a3f74b5733c3",
   "metadata": {},
   "outputs": [],
   "source": [
    "A = [[0.3, 0.1],[0.5, 0.5], [0.6, 0.4]]\n",
    "Aineq = ['<=', '>=', '>=']\n",
    "B = [2.7, 6, 6]\n",
    "C = [4, 5]\n",
    "prob = 'min'\n",
    "non_negative = True"
   ]
  },
  {
   "cell_type": "code",
   "execution_count": 9,
   "id": "f42f2ebf-db3d-4525-8e39-5935e2265cbc",
   "metadata": {},
   "outputs": [
    {
     "name": "stdout",
     "output_type": "stream",
     "text": [
      "a - Mostrando problema de entrada \n",
      "\n",
      "Otimização de:  min Z = 4x0 + 5x1 \n",
      "\n",
      "Sujeito a: \n",
      "         0.3x0 + 0.1x1 <= 2.7 \n",
      "         0.5x0 + 0.5x1 >= 6 \n",
      "         0.6x0 + 0.4x1 >= 6 \n",
      "\n",
      "\n",
      "\n",
      "\n",
      "b - Transformando em formato canonico \n",
      "\n",
      "Otimização de:  min Z = 4x0 + 5x1 \n",
      "\n",
      "Sujeito a: \n",
      "         -0.3x0 + -0.1x1 >= -2.7 \n",
      "         0.5x0 + 0.5x1 >= 6 \n",
      "         0.6x0 + 0.4x1 >= 6 \n",
      "\n",
      "\n",
      "\n",
      "\n",
      "c - Transformando em formato dual \n",
      "\n",
      "Otimização de:  max D = -2.7y0 + 6y1 + 6y2 \n",
      "\n",
      "Sujeito a: \n",
      "         -0.3y0 + 0.5y1 + 0.6y2 <= 4 \n",
      "         -0.1y0 + 0.5y1 + 0.4y2 <= 5 \n",
      "\n"
     ]
    }
   ],
   "source": [
    "solve_questao_3(A, Aineq, B, C, prob)"
   ]
  },
  {
   "cell_type": "markdown",
   "id": "a4223928-fd39-47a1-a643-53eac02900d1",
   "metadata": {},
   "source": [
    "### Questão 30"
   ]
  },
  {
   "cell_type": "code",
   "execution_count": 10,
   "id": "4c1eebfb-76e6-41b8-8ea1-e224b294c81d",
   "metadata": {},
   "outputs": [],
   "source": [
    "A = [[1, 1, 2],[2, 3, 12]]\n",
    "Aineq = ['<=', '<=']\n",
    "B = [12, 48]\n",
    "C = [3, -2, 6]\n",
    "prob = 'max'\n",
    "non_negative = True"
   ]
  },
  {
   "cell_type": "code",
   "execution_count": 11,
   "id": "ee5e6645-5f0b-4c17-9e9a-49616b73d4dd",
   "metadata": {},
   "outputs": [
    {
     "name": "stdout",
     "output_type": "stream",
     "text": [
      "a - Mostrando problema de entrada \n",
      "\n",
      "Otimização de:  max Z = 3x0 + -2x1 + 6x2 \n",
      "\n",
      "Sujeito a: \n",
      "         1x0 + 1x1 + 2x2 <= 12 \n",
      "         2x0 + 3x1 + 12x2 <= 48 \n",
      "\n",
      "\n",
      "\n",
      "\n",
      "b - Transformando em formato canonico \n",
      "\n",
      "Otimização de:  max Z = 3x0 + -2x1 + 6x2 \n",
      "\n",
      "Sujeito a: \n",
      "         1x0 + 1x1 + 2x2 <= 12 \n",
      "         2x0 + 3x1 + 12x2 <= 48 \n",
      "\n",
      "\n",
      "\n",
      "\n",
      "c - Transformando em formato dual \n",
      "\n",
      "Otimização de:  min D = 12y0 + 48y1 \n",
      "\n",
      "Sujeito a: \n",
      "         1y0 + 2y1 >= 3 \n",
      "         1y0 + 3y1 >= -2 \n",
      "         2y0 + 12y1 >= 6 \n",
      "\n"
     ]
    }
   ],
   "source": [
    "solve_questao_3(A, Aineq, B, C, prob)"
   ]
  },
  {
   "cell_type": "markdown",
   "id": "b1e51fd6-0107-40ed-b91f-b56c9179dfb7",
   "metadata": {},
   "source": [
    "### Questão 31"
   ]
  },
  {
   "cell_type": "code",
   "execution_count": 12,
   "id": "219d1680-6587-4a02-b080-c948a55e08b1",
   "metadata": {},
   "outputs": [],
   "source": [
    "A = [[2000, 600, 300],[0, 1, 0], [-1, -1, 1], [-9, 1, 1]]\n",
    "Aineq = ['<=', '<=', '<=', '<=']\n",
    "B = [18200, 10, 0, 0]\n",
    "C = [100000, 40000, 18000]\n",
    "prob = 'max'\n",
    "non_negative = True"
   ]
  },
  {
   "cell_type": "code",
   "execution_count": 13,
   "id": "ab858d1f-e998-4c05-b17b-ec02c5a331d0",
   "metadata": {},
   "outputs": [
    {
     "name": "stdout",
     "output_type": "stream",
     "text": [
      "a - Mostrando problema de entrada \n",
      "\n",
      "Otimização de:  max Z = 100000x0 + 40000x1 + 18000x2 \n",
      "\n",
      "Sujeito a: \n",
      "         2000x0 + 600x1 + 300x2 <= 18200 \n",
      "         0x0 + 1x1 + 0x2 <= 10 \n",
      "         -1x0 + -1x1 + 1x2 <= 0 \n",
      "         -9x0 + 1x1 + 1x2 <= 0 \n",
      "\n",
      "\n",
      "\n",
      "\n",
      "b - Transformando em formato canonico \n",
      "\n",
      "Otimização de:  max Z = 100000x0 + 40000x1 + 18000x2 \n",
      "\n",
      "Sujeito a: \n",
      "         2000x0 + 600x1 + 300x2 <= 18200 \n",
      "         0x0 + 1x1 + 0x2 <= 10 \n",
      "         -1x0 + -1x1 + 1x2 <= 0 \n",
      "         -9x0 + 1x1 + 1x2 <= 0 \n",
      "\n",
      "\n",
      "\n",
      "\n",
      "c - Transformando em formato dual \n",
      "\n",
      "Otimização de:  min D = 18200y0 + 10y1 + 0y2 + 0y3 \n",
      "\n",
      "Sujeito a: \n",
      "         2000y0 + 0y1 + -1y2 + -9y3 >= 100000 \n",
      "         600y0 + 1y1 + -1y2 + 1y3 >= 40000 \n",
      "         300y0 + 0y1 + 1y2 + 1y3 >= 18000 \n",
      "\n"
     ]
    }
   ],
   "source": [
    "solve_questao_3(A, Aineq, B, C, prob)"
   ]
  },
  {
   "cell_type": "code",
   "execution_count": null,
   "id": "53f1cd62-6a96-43c3-ac8d-7dc877968bbf",
   "metadata": {},
   "outputs": [],
   "source": []
  }
 ],
 "metadata": {
  "kernelspec": {
   "display_name": "Python 3 (ipykernel)",
   "language": "python",
   "name": "python3"
  },
  "language_info": {
   "codemirror_mode": {
    "name": "ipython",
    "version": 3
   },
   "file_extension": ".py",
   "mimetype": "text/x-python",
   "name": "python",
   "nbconvert_exporter": "python",
   "pygments_lexer": "ipython3",
   "version": "3.9.18"
  }
 },
 "nbformat": 4,
 "nbformat_minor": 5
}
