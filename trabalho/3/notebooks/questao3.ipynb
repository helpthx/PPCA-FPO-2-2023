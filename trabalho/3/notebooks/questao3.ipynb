{
 "cells": [
  {
   "cell_type": "code",
   "execution_count": 1,
   "id": "2aeb9e80-2e03-4d74-91ec-d0ae36b01c27",
   "metadata": {},
   "outputs": [],
   "source": [
    "import matplotlib.pyplot as plt\n",
    "import numpy as np"
   ]
  },
  {
   "cell_type": "markdown",
   "id": "04bae899-8774-4ac0-8166-46e3381865eb",
   "metadata": {},
   "source": [
    "# Questão 3"
   ]
  },
  {
   "cell_type": "markdown",
   "id": "1d88ac6a-c9b4-4e94-bf8c-42fc7768668a",
   "metadata": {},
   "source": [
    "## 1) Entrar os coeficientes"
   ]
  },
  {
   "cell_type": "code",
   "execution_count": 2,
   "id": "7b494561-2acf-44bb-9296-d6b667148eab",
   "metadata": {},
   "outputs": [],
   "source": [
    "A = [[8,6],[1,2], [-1,-2]]\n",
    "Aineq = ['<=', '<=', '>=']\n",
    "B = [48, 12, -20]\n",
    "C = [0.06, 0.08]\n",
    "prob = 'min'\n",
    "non_negative = True"
   ]
  },
  {
   "cell_type": "code",
   "execution_count": 11,
   "id": "c340d8c8-d217-40d2-a620-dd01ee17b0dc",
   "metadata": {},
   "outputs": [],
   "source": [
    "def formating_objective_function(C, prob, cof='x'):\n",
    "    if prob == \"max\":\n",
    "        funcao_objetiva = f\"Otimização de:  {prob} Z = \"\n",
    "    else:\n",
    "        funcao_objetiva = f\"Otimização de:  {prob} -Z = \"\n",
    "    \n",
    "    for i in range(len(C)):\n",
    "        if i == 0:\n",
    "            funcao_objetiva = funcao_objetiva + f\"{C[i]}{cof}{i} \"\n",
    "        else:\n",
    "            funcao_objetiva = funcao_objetiva + f\"+ {C[i]}{cof}{i} \"\n",
    "    return funcao_objetiva"
   ]
  },
  {
   "cell_type": "code",
   "execution_count": 6,
   "id": "84f645fa-c66e-4a8c-bd04-68ce8623ffc2",
   "metadata": {},
   "outputs": [],
   "source": [
    "def formating_inequations(A, Aineq, B, cof='x'):\n",
    "    inequacoes = 'Sujeito a: \\n'\n",
    "    for i in range(len(A)):\n",
    "        inequacoes += '         '\n",
    "        for j in range(len(A[i])):\n",
    "            if j == 0:\n",
    "                inequacoes += f\"{A[i][j]}{cof}{j} \"\n",
    "            else:\n",
    "                inequacoes += f\"+ {A[i][j]}{cof}{j} \"\n",
    "        inequacoes += f\"{Aineq[i]} {B[i]} \\n\"\n",
    "                \n",
    "            \n",
    "    return inequacoes"
   ]
  },
  {
   "cell_type": "code",
   "execution_count": 8,
   "id": "847b0f92-cd3d-42be-ac33-76ce7610676c",
   "metadata": {},
   "outputs": [],
   "source": [
    "def formating_input_coeficients(A, Aineq, B, C, prob, cof='x'):\n",
    "    output = ''\n",
    "    objective_function = formating_objective_function(C, prob, cof)\n",
    "    inequeations = formating_inequations(A, Aineq, B, cof)\n",
    "    output = objective_function + '\\n\\n' + inequeations\n",
    "    return output"
   ]
  },
  {
   "cell_type": "code",
   "execution_count": 14,
   "id": "268598a4-f19d-47c1-a71c-95f6e6a4a7ae",
   "metadata": {},
   "outputs": [
    {
     "name": "stdout",
     "output_type": "stream",
     "text": [
      "Função Objetiva de entrada e restrições\n",
      "Otimização de:  min -Z = 0.06x0 + 0.08x1 \n",
      "\n",
      "Sujeito a: \n",
      "         8x0 + 6x1 <= 48 \n",
      "         1x0 + 2x1 <= 12 \n",
      "         -1x0 + -2x1 >= -20 \n",
      "\n"
     ]
    }
   ],
   "source": [
    "print(\"Função Objetiva de entrada e restrições\")\n",
    "print(formating_input_coeficients(A, Aineq, B, C, prob))"
   ]
  },
  {
   "cell_type": "markdown",
   "id": "cbe7e3fd-520d-4e48-9400-42d9402d667f",
   "metadata": {},
   "source": [
    "## a) Forma Canonica"
   ]
  },
  {
   "cell_type": "code",
   "execution_count": null,
   "id": "423105e8-b737-45fa-bb95-f65dcfa56a14",
   "metadata": {},
   "outputs": [],
   "source": [
    "# A = [[8,6],[1,2], [-1,-2]]\n",
    "# Aineq = ['<=', '<=', '>=']\n",
    "# B = [48, 12, -20]\n",
    "# C = [0.06, 0.08]\n",
    "# prob = 'min'\n",
    "# non_negative = True"
   ]
  },
  {
   "cell_type": "code",
   "execution_count": 15,
   "id": "91afe294-3e4b-4c31-b6bc-e355f5542335",
   "metadata": {},
   "outputs": [],
   "source": [
    "def transforming_canonic_form(A, Aineq, B, C, prob):\n",
    "    if prob == 'max':\n",
    "        for i in range(len(Aineq)):\n",
    "            if Aineq[i] != '<=':\n",
    "                for j in range(len(A[i])):\n",
    "                    A[i][j] = A[i][j]*-1\n",
    "                Aineq[i] = '<='\n",
    "                B[i] = B[i]*-1\n",
    "    else:\n",
    "        for i in range(len(C)):\n",
    "            C[i] = C[i] * -1\n",
    "                       \n",
    "        for i in range(len(Aineq)):\n",
    "            if Aineq[i] != '>=':\n",
    "                for j in range(len(A[i])):\n",
    "                    A[i][j] = A[i][j]*-1\n",
    "                Aineq[i] = '>='\n",
    "                B[i] = B[i]*-1\n",
    "    return A, Aineq, B, C, prob"
   ]
  },
  {
   "cell_type": "code",
   "execution_count": 17,
   "id": "8c6677da-4d7f-4794-96eb-c2f92ac67e32",
   "metadata": {},
   "outputs": [],
   "source": [
    "A, Aineq, B, C, prob = transforming_canonic_form(A, Aineq, B, C, prob)"
   ]
  },
  {
   "cell_type": "code",
   "execution_count": 18,
   "id": "023aaee3-8f90-46a3-9643-a0ade9a0e3ab",
   "metadata": {},
   "outputs": [
    {
     "name": "stdout",
     "output_type": "stream",
     "text": [
      "Otimização de:  min -Z = -0.06x0 + -0.08x1 \n",
      "\n",
      "Sujeito a: \n",
      "         -8x0 + -6x1 >= -48 \n",
      "         -1x0 + -2x1 >= -12 \n",
      "         -1x0 + -2x1 >= -20 \n",
      "\n"
     ]
    }
   ],
   "source": [
    "print(formating_input_coeficients(A, Aineq, B, C, prob))"
   ]
  },
  {
   "cell_type": "markdown",
   "id": "3bccb249-5878-4347-9a2b-8947414c3166",
   "metadata": {},
   "source": [
    "## b) Forma dual"
   ]
  },
  {
   "cell_type": "code",
   "execution_count": 19,
   "id": "e470611b-472d-45b1-bfac-1a4353976cff",
   "metadata": {},
   "outputs": [],
   "source": [
    "def transforming_dual_form(A, Aineq, B, C, prob):\n",
    "    At = list(map(list, zip(*A)))\n",
    "    Bt = C.copy()\n",
    "    Ct = B.copy()\n",
    "    \n",
    "    if prob == \"max\":\n",
    "        prob = \"min\"\n",
    "        Aineq = [\">=\"]*len(Bt)\n",
    "    else: \n",
    "        prob = \"max\"\n",
    "        Aineq = [\"<=\"]*len(Bt)\n",
    "\n",
    "    return At, Aineq, Bt, Ct, prob"
   ]
  },
  {
   "cell_type": "code",
   "execution_count": 20,
   "id": "4d7e203d-6ebe-4128-af71-dd106eac4a39",
   "metadata": {},
   "outputs": [],
   "source": [
    "At, Aineq, Bt, Ct, prob = transforming_dual_form(A, Aineq, B, C, prob)"
   ]
  },
  {
   "cell_type": "code",
   "execution_count": 21,
   "id": "66889322-374f-4b0a-a48d-c2aa2a4a281e",
   "metadata": {},
   "outputs": [
    {
     "name": "stdout",
     "output_type": "stream",
     "text": [
      "Otimização de:  max Z = -48y0 + -12y1 + -20y2 \n",
      "\n",
      "Sujeito a: \n",
      "         -8y0 + -1y1 + -1y2 <= -0.06 \n",
      "         -6y0 + -2y1 + -2y2 <= -0.08 \n",
      "\n"
     ]
    }
   ],
   "source": [
    "print(formating_input_coeficients(At, Aineq, Bt, Ct, prob, \"y\"))"
   ]
  },
  {
   "cell_type": "code",
   "execution_count": 36,
   "id": "9d03fe32-d3b4-4e12-ade7-3b049bc043e1",
   "metadata": {},
   "outputs": [],
   "source": [
    "def solve_questao_3(A, Aineq, B, C, prob):\n",
    "    print(\"a - Mostrando problema de entrada \\n\")\n",
    "    print(formating_input_coeficients(A, Aineq, B, C, prob))\n",
    "    print(\"\\n\\n\")\n",
    "    A, Aineq, B, C, prob = transforming_canonic_form(A, Aineq, B, C, prob)\n",
    "    print(\"b - Transformando em formato canonico \\n\")\n",
    "    print(formating_input_coeficients(A, Aineq, B, C, prob))\n",
    "    print(\"\\n\\n\")\n",
    "    At, Aineq, Bt, Ct, prob = transforming_dual_form(A, Aineq, B, C, prob)\n",
    "    print(\"c - Transformando em formato dual \\n\")\n",
    "    print(formating_input_coeficients(At, Aineq, Bt, Ct, prob, \"y\"))"
   ]
  },
  {
   "cell_type": "markdown",
   "id": "0538d80d-8721-4a4d-94cf-88b8f3cbad48",
   "metadata": {},
   "source": [
    "## d) Aplicar nos problemas 17 a 24 e 26 a 32"
   ]
  },
  {
   "cell_type": "markdown",
   "id": "0a89ca7c-ee87-45fc-920f-2485aa88423c",
   "metadata": {},
   "source": [
    "### Questão 17"
   ]
  },
  {
   "cell_type": "code",
   "execution_count": 28,
   "id": "280a2ed3-5963-4522-b88e-2f103c51555a",
   "metadata": {},
   "outputs": [],
   "source": [
    "A = [[8,6],[1,2], [1,2]]\n",
    "Aineq = ['<=', '<=', '>=']\n",
    "B = [48, 12, 20]\n",
    "C = [0.06, 0.08]\n",
    "prob = 'min'\n",
    "non_negative = True"
   ]
  },
  {
   "cell_type": "markdown",
   "id": "014b97d0-5463-4d33-be0b-45fde991491d",
   "metadata": {},
   "source": [
    "#### Formantando o problema"
   ]
  },
  {
   "cell_type": "code",
   "execution_count": 29,
   "id": "da82d915-03ec-4f6f-9e71-c9779fa5b7d6",
   "metadata": {},
   "outputs": [
    {
     "name": "stdout",
     "output_type": "stream",
     "text": [
      "Função Objetiva de entrada e restrições\n",
      "\n",
      "Otimização de:  min -Z = 0.06x0 + 0.08x1 \n",
      "\n",
      "Sujeito a: \n",
      "         8x0 + 6x1 <= 48 \n",
      "         1x0 + 2x1 <= 12 \n",
      "         1x0 + 2x1 >= 20 \n",
      "\n"
     ]
    }
   ],
   "source": [
    "print(formating_input_coeficients(A, Aineq, B, C, prob))"
   ]
  },
  {
   "cell_type": "markdown",
   "id": "c6101cdb-2ff1-49f6-bfae-febf4f54ac20",
   "metadata": {},
   "source": [
    "#### Transformando em forma canonica"
   ]
  },
  {
   "cell_type": "code",
   "execution_count": 30,
   "id": "52c08a3b-e59c-41a5-a908-a51e94681709",
   "metadata": {},
   "outputs": [],
   "source": [
    "A, Aineq, B, C, prob = transforming_canonic_form(A, Aineq, B, C, prob)"
   ]
  },
  {
   "cell_type": "code",
   "execution_count": 31,
   "id": "96ccaaca-2cac-48e5-81f6-0d4fe7a82a3b",
   "metadata": {},
   "outputs": [
    {
     "name": "stdout",
     "output_type": "stream",
     "text": [
      "Problema em formato canonico\n",
      "Otimização de:  min -Z = -0.06x0 + -0.08x1 \n",
      "\n",
      "Sujeito a: \n",
      "         -8x0 + -6x1 >= -48 \n",
      "         -1x0 + -2x1 >= -12 \n",
      "         1x0 + 2x1 >= 20 \n",
      "\n"
     ]
    }
   ],
   "source": [
    "print(\"Problema em formato canonico\")\n",
    "print(formating_input_coeficients(A, Aineq, B, C, prob))"
   ]
  },
  {
   "cell_type": "markdown",
   "id": "1544ba22-4a0a-4b08-8a9c-6e10dc81ec63",
   "metadata": {},
   "source": [
    "#### Transformando na forma dual"
   ]
  },
  {
   "cell_type": "code",
   "execution_count": 32,
   "id": "0d1b1682-50d6-4a2e-b3b7-9041257247c1",
   "metadata": {},
   "outputs": [],
   "source": [
    "At, Aineq, Bt, Ct, prob = transforming_dual_form(A, Aineq, B, C, prob)"
   ]
  },
  {
   "cell_type": "code",
   "execution_count": 33,
   "id": "d0bd69aa-1508-4055-9692-68732d02b85a",
   "metadata": {},
   "outputs": [
    {
     "name": "stdout",
     "output_type": "stream",
     "text": [
      "Problema em formato dual\n",
      "Otimização de:  max Z = -48y0 + -12y1 + 20y2 \n",
      "\n",
      "Sujeito a: \n",
      "         -8y0 + -1y1 + 1y2 <= -0.06 \n",
      "         -6y0 + -2y1 + 2y2 <= -0.08 \n",
      "\n"
     ]
    }
   ],
   "source": [
    "print(\"Problema em formato dual\")\n",
    "print(formating_input_coeficients(At, Aineq, Bt, Ct, prob, \"y\"))"
   ]
  },
  {
   "cell_type": "markdown",
   "id": "73a52610-feb2-4641-aafd-95297cc88280",
   "metadata": {},
   "source": [
    "### Questão 18"
   ]
  },
  {
   "cell_type": "code",
   "execution_count": 35,
   "id": "054c0912-085b-4842-bbe9-0978a1e0278f",
   "metadata": {},
   "outputs": [],
   "source": [
    "A = [[6,3],[6,3], [2,4], [2,4]]\n",
    "Aineq = ['<=', '>=', '<=', '>=']\n",
    "B = [480, 450, 480, 450]\n",
    "C = [2, 1]\n",
    "prob = 'max'\n",
    "non_negative = True"
   ]
  },
  {
   "cell_type": "code",
   "execution_count": 37,
   "id": "29c3c707-9233-4fa0-b5d2-5dd516e5fe8b",
   "metadata": {},
   "outputs": [
    {
     "name": "stdout",
     "output_type": "stream",
     "text": [
      "a - Mostrando problema de entrada \n",
      "\n",
      "Otimização de:  max Z = 2x0 + 1x1 \n",
      "\n",
      "Sujeito a: \n",
      "         6x0 + 3x1 <= 480 \n",
      "         6x0 + 3x1 >= 450 \n",
      "         2x0 + 4x1 <= 480 \n",
      "         2x0 + 4x1 >= 450 \n",
      "\n",
      "\n",
      "\n",
      "\n",
      "b - Transformando em formato canonico \n",
      "\n",
      "Otimização de:  max Z = 2x0 + 1x1 \n",
      "\n",
      "Sujeito a: \n",
      "         6x0 + 3x1 <= 480 \n",
      "         -6x0 + -3x1 <= -450 \n",
      "         2x0 + 4x1 <= 480 \n",
      "         -2x0 + -4x1 <= -450 \n",
      "\n",
      "\n",
      "\n",
      "\n",
      "c - Transformando em formato dual \n",
      "\n",
      "Otimização de:  min -Z = 480y0 + -450y1 + 480y2 + -450y3 \n",
      "\n",
      "Sujeito a: \n",
      "         6y0 + -6y1 + 2y2 + -2y3 >= 2 \n",
      "         3y0 + -3y1 + 4y2 + -4y3 >= 1 \n",
      "\n"
     ]
    }
   ],
   "source": [
    "solve_questao_3(A, Aineq, B, C, prob)"
   ]
  },
  {
   "cell_type": "markdown",
   "id": "ad8e871c-78d7-4e58-b42b-ff9d72df21c4",
   "metadata": {},
   "source": [
    "### Questão 19"
   ]
  },
  {
   "cell_type": "code",
   "execution_count": 38,
   "id": "3a94758c-3b87-4700-b6f9-dfabaeabb95c",
   "metadata": {},
   "outputs": [],
   "source": [
    "A = [[10, 10],[3, 7]]\n",
    "Aineq = ['<=', '<=']\n",
    "B = [100, 42]\n",
    "C = [60, 40]\n",
    "prob = 'max'\n",
    "non_negative = True"
   ]
  },
  {
   "cell_type": "code",
   "execution_count": 39,
   "id": "36eb3a76-dd67-496a-9154-eeab9568f9ec",
   "metadata": {},
   "outputs": [
    {
     "name": "stdout",
     "output_type": "stream",
     "text": [
      "a - Mostrando problema de entrada \n",
      "\n",
      "Otimização de:  max Z = 60x0 + 40x1 \n",
      "\n",
      "Sujeito a: \n",
      "         10x0 + 10x1 <= 100 \n",
      "         3x0 + 7x1 <= 42 \n",
      "\n",
      "\n",
      "\n",
      "\n",
      "b - Transformando em formato canonico \n",
      "\n",
      "Otimização de:  max Z = 60x0 + 40x1 \n",
      "\n",
      "Sujeito a: \n",
      "         10x0 + 10x1 <= 100 \n",
      "         3x0 + 7x1 <= 42 \n",
      "\n",
      "\n",
      "\n",
      "\n",
      "c - Transformando em formato dual \n",
      "\n",
      "Otimização de:  min -Z = 100y0 + 42y1 \n",
      "\n",
      "Sujeito a: \n",
      "         10y0 + 3y1 >= 60 \n",
      "         10y0 + 7y1 >= 40 \n",
      "\n"
     ]
    }
   ],
   "source": [
    "solve_questao_3(A, Aineq, B, C, prob)"
   ]
  },
  {
   "cell_type": "code",
   "execution_count": null,
   "id": "89d84bce-8fbc-498a-afad-a3f74b5733c3",
   "metadata": {},
   "outputs": [],
   "source": []
  }
 ],
 "metadata": {
  "kernelspec": {
   "display_name": "Python 3 (ipykernel)",
   "language": "python",
   "name": "python3"
  },
  "language_info": {
   "codemirror_mode": {
    "name": "ipython",
    "version": 3
   },
   "file_extension": ".py",
   "mimetype": "text/x-python",
   "name": "python",
   "nbconvert_exporter": "python",
   "pygments_lexer": "ipython3",
   "version": "3.9.18"
  }
 },
 "nbformat": 4,
 "nbformat_minor": 5
}
